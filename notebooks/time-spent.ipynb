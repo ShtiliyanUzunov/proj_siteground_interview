{
 "cells": [
  {
   "cell_type": "markdown",
   "id": "e66ad381-a84b-4747-9b49-0c230c388689",
   "metadata": {},
   "source": [
    "# Time spent"
   ]
  },
  {
   "cell_type": "markdown",
   "id": "009bfa1c-38d7-4133-b857-3045fcf54543",
   "metadata": {},
   "source": [
    "As discussed with Yasen, 2 candidates spending different amount of time on the project will deliver different results.<br/>\n",
    "Here I log the time spent on different days, and how much time each task has taken."
   ]
  },
  {
   "cell_type": "markdown",
   "id": "2ef6fcb0-673b-48a7-bd83-a38950c6397c",
   "metadata": {},
   "source": [
    "- 21.05 - 2h - Models exploration. Literature overview.\n",
    "- 22.05 - 3h - Git project init. Service implementation. Testing."
   ]
  },
  {
   "cell_type": "code",
   "execution_count": null,
   "id": "02d81915-ad58-45dc-bbf8-8c9a060c2c00",
   "metadata": {},
   "outputs": [],
   "source": []
  }
 ],
 "metadata": {
  "kernelspec": {
   "display_name": "Python 3 (ipykernel)",
   "language": "python",
   "name": "python3"
  },
  "language_info": {
   "codemirror_mode": {
    "name": "ipython",
    "version": 3
   },
   "file_extension": ".py",
   "mimetype": "text/x-python",
   "name": "python",
   "nbconvert_exporter": "python",
   "pygments_lexer": "ipython3",
   "version": "3.12.7"
  }
 },
 "nbformat": 4,
 "nbformat_minor": 5
}
